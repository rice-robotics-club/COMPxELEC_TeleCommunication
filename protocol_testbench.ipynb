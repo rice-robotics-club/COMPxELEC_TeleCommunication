{
 "cells": [
  {
   "cell_type": "markdown",
   "id": "29e3ea7f",
   "metadata": {},
   "source": [
    "### Test bench for the communication protocol as of Oct 2, 2025. "
   ]
  },
  {
   "cell_type": "code",
   "execution_count": 4,
   "id": "d442ed9d",
   "metadata": {},
   "outputs": [
    {
     "name": "stdout",
     "output_type": "stream",
     "text": [
      "Collecting crcmod\n",
      "  Downloading crcmod-1.7.tar.gz (89 kB)\n",
      "  Preparing metadata (setup.py): started\n",
      "  Preparing metadata (setup.py): finished with status 'done'\n",
      "Building wheels for collected packages: crcmod\n",
      "  Building wheel for crcmod (setup.py): started\n",
      "  Building wheel for crcmod (setup.py): finished with status 'done'\n",
      "  Created wheel for crcmod: filename=crcmod-1.7-py3-none-any.whl size=18869 sha256=659ea352866ec1ae5ee6cd822bf9a9716f771b9e0ce17371c02c647a63407525\n",
      "  Stored in directory: c:\\users\\roths\\appdata\\local\\pip\\cache\\wheels\\23\\94\\7a\\8cb7d14597e6395ce969933f01aed9ea8fa5f5b4d4c8a61e99\n",
      "Successfully built crcmod\n",
      "Installing collected packages: crcmod\n",
      "Successfully installed crcmod-1.7\n",
      "Note: you may need to restart the kernel to use updated packages.\n"
     ]
    },
    {
     "name": "stderr",
     "output_type": "stream",
     "text": [
      "  DEPRECATION: Building 'crcmod' using the legacy setup.py bdist_wheel mechanism, which will be removed in a future version. pip 25.3 will enforce this behaviour change. A possible replacement is to use the standardized build interface by setting the `--use-pep517` option, (possibly combined with `--no-build-isolation`), or adding a `pyproject.toml` file to the source tree of 'crcmod'. Discussion can be found at https://github.com/pypa/pip/issues/6334\n",
      "\n",
      "[notice] A new release of pip is available: 25.1.1 -> 25.2\n",
      "[notice] To update, run: C:\\Users\\roths\\AppData\\Local\\Microsoft\\WindowsApps\\PythonSoftwareFoundation.Python.3.11_qbz5n2kfra8p0\\python.exe -m pip install --upgrade pip\n"
     ]
    }
   ],
   "source": [
    "pip install crcmod\n"
   ]
  },
  {
   "cell_type": "code",
   "execution_count": 5,
   "id": "55160dcc",
   "metadata": {},
   "outputs": [],
   "source": [
    "from protocol import pack, unpack, START_OF_FRAME\n",
    "import struct\n",
    "\n",
    "import crcmod\n",
    "\n",
    "# Helper function to print bytes in a readable hex format\n",
    "def pretty_hex(data: bytes) -> str:\n",
    "    return ' '.join(f'{b:02X}' for b in data)"
   ]
  },
  {
   "cell_type": "code",
   "execution_count": null,
   "id": "be195728",
   "metadata": {},
   "outputs": [
    {
     "name": "stdout",
     "output_type": "stream",
     "text": [
      "b'?@\\x00\\x00\\xbf\\x00\\x00\\x00'\n"
     ]
    }
   ],
   "source": [
    "left_speed = 0.75\n",
    "right_speed = -0.5\n",
    "test_payload = struct.pack('>ff', left_speed, right_speed)\n",
    "#print(test_payload)"
   ]
  },
  {
   "cell_type": "code",
   "execution_count": 8,
   "id": "57e06193",
   "metadata": {},
   "outputs": [
    {
     "name": "stdout",
     "output_type": "stream",
     "text": [
      "Original Payload: 3F 40 00 00 BF 00 00 00 (Floats: 0.75, -0.5)\n"
     ]
    }
   ],
   "source": [
    "\n",
    "print(f\"Original Payload: {pretty_hex(test_payload)} (Floats: {left_speed}, {right_speed})\")\n"
   ]
  },
  {
   "cell_type": "code",
   "execution_count": 9,
   "id": "1742d172",
   "metadata": {},
   "outputs": [
    {
     "name": "stdout",
     "output_type": "stream",
     "text": [
      "Full Packed Packet: 1A CF 01 00 65 08 3F 40 00 00 BF 00 00 00 D3 B3\n",
      "Total Packet Length: 16 bytes\n",
      "\n"
     ]
    }
   ],
   "source": [
    "packet = pack(packet_type=0x01, sequence_number=101, payload=test_payload)\n",
    "print(f\"Full Packed Packet: {pretty_hex(packet)}\")\n",
    "print(f\"Total Packet Length: {len(packet)} bytes\\n\")\n"
   ]
  },
  {
   "cell_type": "markdown",
   "id": "e12d9b1f",
   "metadata": {},
   "source": [
    "## Unpacking\n"
   ]
  },
  {
   "cell_type": "code",
   "execution_count": 10,
   "id": "c598cd84",
   "metadata": {},
   "outputs": [
    {
     "name": "stdout",
     "output_type": "stream",
     "text": [
      "Unpacked Data: {'type': 1, 'seq': 101, 'payload': b'?@\\x00\\x00\\xbf\\x00\\x00\\x00'}\n",
      "Bytes Consumed: 16\n",
      "\n"
     ]
    }
   ],
   "source": [
    "unpacked_data, consumed_bytes = unpack(packet)\n",
    "\n",
    "print(f\"Unpacked Data: {unpacked_data}\")\n",
    "print(f\"Bytes Consumed: {consumed_bytes}\\n\")"
   ]
  },
  {
   "cell_type": "code",
   "execution_count": 12,
   "id": "1cb15c07",
   "metadata": {},
   "outputs": [
    {
     "name": "stdout",
     "output_type": "stream",
     "text": [
      "Test PASSED!\n",
      "\n"
     ]
    }
   ],
   "source": [
    "assert unpacked_data is not None\n",
    "assert unpacked_data['type'] == 0x01\n",
    "assert unpacked_data['seq'] == 101\n",
    "# Unpack the payload floats to verify them\n",
    "unpacked_left, unpacked_right = struct.unpack('>ff', unpacked_data['payload'])\n",
    "assert unpacked_left == left_speed\n",
    "assert unpacked_right == right_speed\n",
    "print(\"Test PASSED!\\n\")"
   ]
  },
  {
   "cell_type": "code",
   "execution_count": 13,
   "id": "7fe46a41",
   "metadata": {},
   "outputs": [],
   "source": [
    "corrupted_packet_list = list(packet)\n",
    "# Corrupt a byte in the payload section (byte 8)\n",
    "corrupted_packet_list[8] += 1 \n",
    "corrupted_packet = bytes(corrupted_packet_list)"
   ]
  },
  {
   "cell_type": "code",
   "execution_count": 14,
   "id": "19d8dec3",
   "metadata": {},
   "outputs": [
    {
     "name": "stdout",
     "output_type": "stream",
     "text": [
      "Original Packet:    1A CF 01 00 65 08 3F 40 00 00 BF 00 00 00 D3 B3\n",
      "Corrupted Packet:   1A CF 01 00 65 08 3F 40 01 00 BF 00 00 00 D3 B3\n",
      "\n"
     ]
    }
   ],
   "source": [
    "print(f\"Original Packet:    {pretty_hex(packet)}\")\n",
    "print(f\"Corrupted Packet:   {pretty_hex(corrupted_packet)}\\n\")\n"
   ]
  },
  {
   "cell_type": "code",
   "execution_count": 15,
   "id": "3e195a45",
   "metadata": {},
   "outputs": [
    {
     "name": "stdout",
     "output_type": "stream",
     "text": [
      "Checksum mismatch! Received: 54195, Calculated: 55192\n",
      "Unpacked Data: None\n",
      "Bytes Consumed: 16\n",
      "\n"
     ]
    }
   ],
   "source": [
    "unpacked_data, consumed_bytes = unpack(corrupted_packet)\n",
    "print(f\"Unpacked Data: {unpacked_data}\")\n",
    "print(f\"Bytes Consumed: {consumed_bytes}\\n\")\n"
   ]
  },
  {
   "cell_type": "code",
   "execution_count": 16,
   "id": "7b457240",
   "metadata": {},
   "outputs": [
    {
     "name": "stdout",
     "output_type": "stream",
     "text": [
      "Full Stream Buffer: DE AD BE EF 1A CF 01 00 65 08 3F 40 00 00 BF 00 00 00 D3 B3 CA FE\n",
      "\n"
     ]
    }
   ],
   "source": [
    "stream_buffer = b'\\xDE\\xAD\\xBE\\xEF' + packet + b'\\xCA\\xFE'\n",
    "print(f\"Full Stream Buffer: {pretty_hex(stream_buffer)}\\n\")"
   ]
  },
  {
   "cell_type": "code",
   "execution_count": 18,
   "id": "b2c65fdc",
   "metadata": {},
   "outputs": [
    {
     "name": "stdout",
     "output_type": "stream",
     "text": [
      "Unpacked Data: {'type': 1, 'seq': 101, 'payload': b'?@\\x00\\x00\\xbf\\x00\\x00\\x00'}\n",
      "Total Bytes Consumed from buffer start: 20\n",
      "\n"
     ]
    }
   ],
   "source": [
    "unpacked_data, consumed_bytes = unpack(stream_buffer)\n",
    "print(f\"Unpacked Data: {unpacked_data}\")\n",
    "print(f\"Total Bytes Consumed from buffer start: {consumed_bytes}\\n\")\n"
   ]
  },
  {
   "cell_type": "code",
   "execution_count": 20,
   "id": "e9837675",
   "metadata": {},
   "outputs": [
    {
     "name": "stdout",
     "output_type": "stream",
     "text": [
      "Garbage Data Stream Test PASSED! (Packet was successfully found and parsed)\n",
      "\n"
     ]
    }
   ],
   "source": [
    "assert unpacked_data is not None\n",
    "assert unpacked_data['type'] == 0x01\n",
    "# We consumed 4 garbage bytes + the packet length\n",
    "assert consumed_bytes == 4 + len(packet)\n",
    "print(\"Garbage Data Stream Test PASSED! (Packet was successfully found and parsed)\\n\")\n"
   ]
  }
 ],
 "metadata": {
  "kernelspec": {
   "display_name": "Python 3",
   "language": "python",
   "name": "python3"
  },
  "language_info": {
   "codemirror_mode": {
    "name": "ipython",
    "version": 3
   },
   "file_extension": ".py",
   "mimetype": "text/x-python",
   "name": "python",
   "nbconvert_exporter": "python",
   "pygments_lexer": "ipython3",
   "version": "3.11.9"
  }
 },
 "nbformat": 4,
 "nbformat_minor": 5
}
